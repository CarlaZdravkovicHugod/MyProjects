{
 "cells": [
  {
   "cell_type": "code",
   "execution_count": 1,
   "metadata": {},
   "outputs": [],
   "source": [
    "import pandas as pd\n",
    "import numpy as np\n",
    "from sklearn.metrics import accuracy_score, f1_score\n",
    "from afinn import Afinn\n",
    "afinn = Afinn(language = \"en\")"
   ]
  },
  {
   "cell_type": "code",
   "execution_count": 2,
   "metadata": {},
   "outputs": [],
   "source": [
    "# Loads in negative and positive wordlists aswell as dataset \n",
    "negative = pd.read_csv(\"negative_words.csv\", header=None)\n",
    "positive = pd.read_csv(\"positive_words.csv\", header=None)\n",
    "df = pd.read_csv(\"testset.csv\", header=None)\n"
   ]
  },
  {
   "cell_type": "code",
   "execution_count": 3,
   "metadata": {},
   "outputs": [],
   "source": [
    "# Classify_tweet takes in a list of tweets. For word in tweet, we check for negative or positive valuation (weighted with an integer 1-5 with afinn.score() fucntion) \n",
    "# Then we calculate a combined score for every tweet.\n",
    "# Function returns either 1 for positive or 0 for negaitve.\n",
    "def classify_tweet(tweet):\n",
    "    score = 1\n",
    "    for word in tweet.split():\n",
    "        score += afinn.score(word)\n",
    "    if score > 2:\n",
    "        return 1\n",
    "    return 0"
   ]
  },
  {
   "cell_type": "code",
   "execution_count": 4,
   "metadata": {},
   "outputs": [],
   "source": [
    "# Eval_model() takes in labels and predictions. Labels contain the true labels for every tweet. The predictions list contaions labels form the classify_tweet() fucntion.\n",
    "# The fuction then uses the accuracy_score and f1_score function and prints out the calculated values.\n",
    "def eval_model(labels, predictions):\n",
    "    print(f\"accuracy: {accuracy_score(labels, predictions)}\")\n",
    "    print(f\"f1 score: {f1_score(labels, predictions)}\")"
   ]
  },
  {
   "cell_type": "code",
   "execution_count": 15,
   "metadata": {},
   "outputs": [
    {
     "name": "stdout",
     "output_type": "stream",
     "text": [
      "[0 1 1 ... 1 0 1]\n"
     ]
    }
   ],
   "source": [
    "#df = data.sample(frac=0.075)\n",
    "# Tweets defined as colum 5 in df. Labels defined as colum 1 in df\n",
    "tweets = (df.iloc[:, 5])\n",
    "labels = (df.iloc[:, 0]).values\n",
    "# In df positive tweets in labeled with the integer 4. We change this to 1.\n",
    "labels = np.where(labels > 1, 1, labels)\n",
    "print(labels)"
   ]
  },
  {
   "cell_type": "code",
   "execution_count": 16,
   "metadata": {},
   "outputs": [
    {
     "name": "stdout",
     "output_type": "stream",
     "text": [
      "[0 1 0 ... 0 0 1]\n"
     ]
    }
   ],
   "source": [
    "# Calculate predictions\n",
    "predictions = np.array([classify_tweet(tweet) for tweet in tweets.values])\n",
    "print(predictions)"
   ]
  },
  {
   "cell_type": "code",
   "execution_count": 17,
   "metadata": {},
   "outputs": [
    {
     "name": "stdout",
     "output_type": "stream",
     "text": [
      "1's: 0.35686666666666667\n",
      "0's: 0.6431333333333333\n",
      "1's: 0.5017916666666666\n",
      "0's: 0.4982083333333333\n"
     ]
    }
   ],
   "source": [
    "# Prints out the normalized fraction of predicted and true labeled, positive and negative tweets. \n",
    "print(f\"1's: {len(predictions[predictions == 1]) / len(predictions)}\")\n",
    "print(f\"0's: {len(predictions[predictions == 0]) / len(predictions)}\")\n",
    "print(f\"1's: {len(labels[labels == 1]) / len(labels)}\")\n",
    "print(f\"0's: {len(labels[labels == 0]) / len(labels)}\")"
   ]
  },
  {
   "cell_type": "code",
   "execution_count": 18,
   "metadata": {},
   "outputs": [
    {
     "name": "stdout",
     "output_type": "stream",
     "text": [
      "accuracy: 0.6441083333333333\n",
      "f1 score: 0.5855258688457768\n"
     ]
    }
   ],
   "source": [
    "# Runs eval_model() to obtain accuracy and f1 score\n",
    "eval_model(labels, predictions)"
   ]
  }
 ],
 "metadata": {
  "kernelspec": {
   "display_name": "Python 3.10.9 64-bit",
   "language": "python",
   "name": "python3"
  },
  "language_info": {
   "codemirror_mode": {
    "name": "ipython",
    "version": 3
   },
   "file_extension": ".py",
   "mimetype": "text/x-python",
   "name": "python",
   "nbconvert_exporter": "python",
   "pygments_lexer": "ipython3",
   "version": "3.10.9"
  },
  "orig_nbformat": 4,
  "vscode": {
   "interpreter": {
    "hash": "b0fa6594d8f4cbf19f97940f81e996739fb7646882a419484c72d19e05852a7e"
   }
  }
 },
 "nbformat": 4,
 "nbformat_minor": 2
}
